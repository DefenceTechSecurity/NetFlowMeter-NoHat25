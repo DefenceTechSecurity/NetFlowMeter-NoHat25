{
 "cells": [
  {
   "cell_type": "code",
   "execution_count": null,
   "id": "01824022",
   "metadata": {},
   "outputs": [],
   "source": [
    "import os\n",
    "import random\n",
    "\n",
    "import numpy as np\n",
    "import pandas as pd\n",
    "import sklearn.tree as tree\n",
    "from sklearn.tree import DecisionTreeClassifier\n",
    "from sklearn.model_selection import train_test_split\n",
    "from sklearn.metrics import classification_report, confusion_matrix\n",
    "from sklearn.inspection import permutation_importance\n",
    "import joblib\n",
    "\n",
    "import matplotlib.pyplot as plt\n",
    "import seaborn as sns"
   ]
  },
  {
   "cell_type": "code",
   "execution_count": null,
   "id": "fcd8aab1",
   "metadata": {},
   "outputs": [],
   "source": [
    "RANDOM_SEED = 33\n",
    "random.seed(RANDOM_SEED)\n",
    "np.random.seed(RANDOM_SEED)"
   ]
  },
  {
   "cell_type": "code",
   "execution_count": null,
   "id": "cc13cbd1",
   "metadata": {},
   "outputs": [],
   "source": [
    "os.makedirs('Models/', exist_ok=True)\n",
    "\n",
    "model_path = 'Models/dtree.joblib'\n",
    "\n",
    "monday_data_path = 'Data/CICIDS2017_labeled/monday_labeled.csv'\n",
    "tuesday_data_path = 'Data/CICIDS2017_labeled/tuesday_labeled.csv'\n",
    "wednesday_data_path = 'Data/CICIDS2017_labeled/wednesday_labeled.csv'\n",
    "thursday_data_path = 'Data/CICIDS2017_labeled/thursday_labeled.csv'\n",
    "friday_data_path = 'Data/CICIDS2017_labeled/friday_labeled.csv'"
   ]
  },
  {
   "cell_type": "code",
   "execution_count": null,
   "id": "8d9c1300",
   "metadata": {},
   "outputs": [],
   "source": [
    "df_mon = pd.read_csv(monday_data_path)\n",
    "df_tue = pd.read_csv(tuesday_data_path)\n",
    "df_wed = pd.read_csv(wednesday_data_path)\n",
    "df_thu = pd.read_csv(thursday_data_path)\n",
    "df_fri = pd.read_csv(friday_data_path)\n",
    "\n",
    "df = pd.concat([df_mon, df_tue, df_wed, df_thu, df_fri], ignore_index=True)"
   ]
  },
  {
   "cell_type": "code",
   "execution_count": null,
   "id": "c3b1f3a4",
   "metadata": {},
   "outputs": [],
   "source": [
    "df['Label'].value_counts()"
   ]
  },
  {
   "cell_type": "code",
   "execution_count": null,
   "id": "1350e8f3",
   "metadata": {},
   "outputs": [],
   "source": [
    "\"\"\"\n",
    "excluded_cols = ['id','Flow ID','Src IP','Src Port','Dst IP','Dst Port','Protocol','Timestamp',\n",
    "                'Fwd URG Flags','Bwd URG Flags','URG Flag Count',\n",
    "                'Attempted Category','Label']\n",
    "\"\"\"\n",
    "\n",
    "excluded_cols = ['Flow ID','Src IP','Src Port','Dst IP','Dst Port','Protocol','Timestamp',\n",
    "                 'Out of order packets','Malformed packets','Direction guessed',\n",
    "                 'Fwd URG Flags','Bwd URG Flags','URG Flag Count',\n",
    "                 'TCP Bwd invalid seq',\n",
    "                 'Label']\n",
    "\n",
    "X = df.drop(columns=excluded_cols, axis=1)\n",
    "y = df['Label']"
   ]
  },
  {
   "cell_type": "code",
   "execution_count": null,
   "id": "9f4d5bb1",
   "metadata": {},
   "outputs": [],
   "source": [
    "X_train, X_test, y_train, y_test = train_test_split(\n",
    "    X, y, test_size=0.2, random_state=RANDOM_SEED, stratify=y\n",
    ")\n",
    "\n",
    "print(f\"Training shape: {X_train.shape}, test shape: {X_test.shape}\")"
   ]
  },
  {
   "cell_type": "code",
   "execution_count": null,
   "id": "8b6d2504",
   "metadata": {},
   "outputs": [],
   "source": [
    "MAX_DEPTH = 5\n",
    "\n",
    "dtc = DecisionTreeClassifier(max_depth=MAX_DEPTH, random_state=RANDOM_SEED)\n",
    "dtc.fit(X_train, y_train)\n",
    "\n",
    "joblib.dump(dtc, model_path)"
   ]
  },
  {
   "cell_type": "code",
   "execution_count": null,
   "id": "8d43a548",
   "metadata": {},
   "outputs": [],
   "source": [
    "y_pred = dtc.predict(X_test)"
   ]
  },
  {
   "cell_type": "code",
   "execution_count": null,
   "id": "286c91ee",
   "metadata": {},
   "outputs": [],
   "source": [
    "labels = [\"BENIGN\", \"ATTACK\"]\n",
    "\n",
    "print(classification_report(y_true=y_test, y_pred=y_pred, target_names=labels))"
   ]
  },
  {
   "cell_type": "code",
   "execution_count": null,
   "id": "b636c367",
   "metadata": {},
   "outputs": [],
   "source": [
    "cm = confusion_matrix(y_true=y_test, y_pred=y_pred, labels=labels)\n",
    "cmn = cm.astype('float') / cm.sum(axis=1)[:, np.newaxis]\n",
    "annotations = np.empty_like(cm, dtype=object)\n",
    "for i in range(cm.shape[0]):\n",
    "    for j in range(cm.shape[1]):\n",
    "        annotations[i,j] = f\"{cm[i,j]}\\n({cmn[i,j]:.2%})\"\n",
    "fig, ax = plt.subplots(figsize=(10,10))\n",
    "sns.heatmap(cmn, annot=annotations, fmt='s', xticklabels=labels, yticklabels=labels, cmap='Blues', vmin=0, vmax=1, square=True, annot_kws={\"size\": 25})\n",
    "plt.ylabel('Actual')\n",
    "plt.xlabel('Predicted')\n",
    "plt.title('Confusion matrix - DecisionTreeClassifier')\n",
    "plt.show()"
   ]
  },
  {
   "cell_type": "code",
   "execution_count": null,
   "id": "fd716345",
   "metadata": {},
   "outputs": [],
   "source": [
    "TOP_N = 7\n",
    "\n",
    "fig, ax = plt.subplots(figsize=(10,8))\n",
    "(\n",
    "    pd.DataFrame({\n",
    "        'importance': dtc.feature_importances_},\n",
    "        index=X.columns)\n",
    "        .sort_values('importance', ascending=False)\n",
    "        .head(TOP_N)\n",
    "        .plot.barh(ax=ax)\n",
    ")\n",
    "ax.invert_yaxis()\n",
    "ax.set_title(f'Feature importances using MDI (top {TOP_N})', fontsize=18)\n",
    "ax.set_ylabel('Mean Decrease in Impurity')\n",
    "ax.get_legend().remove()\n",
    "fig.tight_layout()\n",
    "plt.show()"
   ]
  },
  {
   "cell_type": "code",
   "execution_count": null,
   "id": "5bd819c5",
   "metadata": {},
   "outputs": [],
   "source": [
    "result = permutation_importance(\n",
    "    dtc, X_test, y_test, n_repeats=10, random_state=42, n_jobs=-1\n",
    ")"
   ]
  },
  {
   "cell_type": "code",
   "execution_count": null,
   "id": "3b0a7f99",
   "metadata": {},
   "outputs": [],
   "source": [
    "sorted_importances_idx = result.importances_mean.argsort()\n",
    "top_n_indices = sorted_importances_idx[-TOP_N:]\n",
    "importances = pd.DataFrame(\n",
    "    result.importances[top_n_indices].T,\n",
    "    columns=X_test.columns[top_n_indices],\n",
    ")\n",
    "ax = importances.plot.box(vert=False, whis=10)\n",
    "ax.set_title(\"Permutation importances (test set)\", fontsize=18)\n",
    "ax.axvline(x=0, color=\"k\", linestyle=\"--\")\n",
    "ax.set_xlabel(\"Decrease in accuracy score\")\n",
    "ax.figure.tight_layout()"
   ]
  },
  {
   "cell_type": "code",
   "execution_count": null,
   "id": "75d5e0f9",
   "metadata": {},
   "outputs": [],
   "source": [
    "text_representation = tree.export_text(dtc, feature_names=X.columns.values)\n",
    "print(text_representation)"
   ]
  },
  {
   "cell_type": "code",
   "execution_count": null,
   "id": "b80df566",
   "metadata": {},
   "outputs": [],
   "source": [
    "plt.figure(figsize=(40, 20))\n",
    "tree.plot_tree(\n",
    "    dtc,\n",
    "    feature_names=X.columns.values,\n",
    "    label='all',\n",
    "    impurity=False,\n",
    "    proportion=True,\n",
    "    filled=True,\n",
    "    fontsize=45\n",
    ")\n",
    "plt.show()"
   ]
  },
  {
   "cell_type": "code",
   "execution_count": null,
   "id": "cee2debe",
   "metadata": {},
   "outputs": [],
   "source": [
    "sns.histplot(data=X, x='Bwd Packet Length Std', hue=y.values, kde=True, bins=50)\n",
    "plt.title('Distribution of \\'Bwd Packet Length Std\\'', pad=20)\n",
    "plt.xlim(0, 5000)\n",
    "plt.ylim(0, 80000)\n",
    "plt.axvline(1496.86, color = 'tomato', linestyle='--')\n",
    "plt.tight_layout()\n",
    "plt.show()"
   ]
  }
 ],
 "metadata": {
  "kernelspec": {
   "display_name": ".venv",
   "language": "python",
   "name": "python3"
  },
  "language_info": {
   "codemirror_mode": {
    "name": "ipython",
    "version": 3
   },
   "file_extension": ".py",
   "mimetype": "text/x-python",
   "name": "python",
   "nbconvert_exporter": "python",
   "pygments_lexer": "ipython3",
   "version": "3.12.10"
  }
 },
 "nbformat": 4,
 "nbformat_minor": 5
}
